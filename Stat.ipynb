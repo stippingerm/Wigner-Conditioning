{
 "cells": [
  {
   "cell_type": "markdown",
   "metadata": {},
   "source": [
    "#### We need to install module future, not importing from \\_\\_future\\_\\_"
   ]
  },
  {
   "cell_type": "code",
   "execution_count": null,
   "metadata": {
    "collapsed": false
   },
   "outputs": [],
   "source": [
    "#from future.utils import PY3\n",
    "import future\n",
    "from __future__ import (absolute_import, division,\n",
    "                        print_function, unicode_literals)\n",
    "import pandas as pd\n",
    "import numpy as np\n",
    "import os\n",
    "import pprint\n",
    "from IPython.display import display\n",
    "from matplotlib import pyplot as plt\n",
    "from scipy.stats.mstats import zscore\n",
    "import warnings"
   ]
  },
  {
   "cell_type": "markdown",
   "metadata": {},
   "source": [
    "## Load files"
   ]
  },
  {
   "cell_type": "code",
   "execution_count": null,
   "metadata": {
    "collapsed": false
   },
   "outputs": [],
   "source": [
    "# Set event lengths\n",
    "durations=np.array([0,10,20,15,5])\n",
    "events=np.cumsum(durations)\n",
    "# List dir\n",
    "#mydir = '../_share/Losonczi/msa1215_1/'; FPS = 30\n",
    "mydir = '../_share/Losonczi/msa0316_1/'; FPS = 8\n",
    "os.listdir(mydir)"
   ]
  },
  {
   "cell_type": "code",
   "execution_count": null,
   "metadata": {
    "collapsed": false
   },
   "outputs": [],
   "source": [
    "# Load files\n",
    "experiment_traits = pd.read_hdf(os.path.join(mydir,'experiment_traits.h5'),key='table')\n",
    "raw_data = pd.read_hdf(os.path.join(mydir,'raw_data.h5'),key='table')\n",
    "df_data = pd.read_hdf(os.path.join(mydir,'df_data.h5'),key='table')\n",
    "transients_data = pd.read_hdf(os.path.join(mydir,'transients_data.h5'),key='table')\n",
    "behavior_data = pd.read_hdf(os.path.join(mydir,'behavior_data.h5'),key='table')"
   ]
  },
  {
   "cell_type": "code",
   "execution_count": null,
   "metadata": {
    "collapsed": false
   },
   "outputs": [],
   "source": [
    "# Available trials and ROIs\n",
    "trials = df_data.index.levels[0]\n",
    "rois = df_data.index.levels[1]\n",
    "print (df_data.shape, '\\n', trials, '\\n', rois)"
   ]
  },
  {
   "cell_type": "markdown",
   "metadata": {},
   "source": [
    "## Prepare data"
   ]
  },
  {
   "cell_type": "code",
   "execution_count": null,
   "metadata": {
    "collapsed": false
   },
   "outputs": [],
   "source": [
    "# See which ROI is available in which trial and for how many frames\n",
    "\n",
    "## METHOD 1, step-by-step, simple availability\n",
    "#avail = df_data[[]].copy()\n",
    "#avail['isFound']=1\n",
    "#avail.reset_index() #[['time','roi_id','isFound']]\n",
    "## METHOD 2, directly with frame count\n",
    "avail = ((~df_data.isnull()).sum(axis=1)).to_frame('nFrames')\n",
    "\n",
    "# create table\n",
    "## METHOD A, step-by-step\n",
    "#avail.reset_index().pivot(index='time', columns='roi_id')\n",
    "## BETHOD B, taking advantage of multi-indexing\n",
    "avail = avail.unstack()\n",
    "\n",
    "print(avail.shape)\n",
    "avail.head()"
   ]
  },
  {
   "cell_type": "code",
   "execution_count": null,
   "metadata": {
    "collapsed": false
   },
   "outputs": [],
   "source": [
    "# Create boolean DataFrame which ROI is spiking in which camera frame\n",
    "\n",
    "# create empty structure for cumsum\n",
    "mir = pd.MultiIndex.from_product((trials.values,rois.values),names=('time','roi_id'))\n",
    "mic = pd.MultiIndex.from_product(('Spiking',np.array(range(0,480))),names=('','frame'))\n",
    "df_spike = pd.DataFrame(data=0,index=mir,columns=pd.Index(np.array(range(0,480)),name='frame'))\n",
    "df_spike.shape\n",
    "\n",
    "# select spike data\n",
    "spikes = transients_data.loc[transients_data['in_motion_period']==False,['start_frame','stop_frame']]\n",
    "spikes['count']=1\n",
    "\n",
    "# fill in spike start and stop points\n",
    "## METHOD 0, this kind of indeing would work for numpy, not here\n",
    "#ix0 = zip(spikes.reset_index()['time'],spikes.reset_index()['roi_id'])\n",
    "#ix1 = spikes['start_frame'].values\n",
    "#df_spike.loc[zip(ix0,ix1)]+=1\n",
    "## METHOD 1, slowest in both ways\n",
    "#for (idx,data) in spikes.iterrows():\n",
    "#    df_spike.loc[idx,data.values]+=[1,-1]\n",
    "## METHOD 2, fastest in both\n",
    "#for (idx,start,stop) in spikes.itertuples():\n",
    "#    df_spike.loc[idx,start]+=1\n",
    "#    df_spike.loc[idx,stop]-=1\n",
    "## ULTIMATE METHOD, without for loop is best:\n",
    "sp = spikes[['start_frame','count']].pivot(columns='start_frame').fillna(0)\n",
    "#sp.columns = pd.Index(sp.columns.levels[1].values) # would eliminate the need for ['count'] below\n",
    "df_spike = df_spike.add(sp['count'], fill_value=0)\n",
    "sp = spikes[['stop_frame','count']].pivot(columns='stop_frame').fillna(0)\n",
    "#sp.columns = pd.Index(sp.columns.levels[1].values) # would eliminate the need for ['count'] below\n",
    "df_spike = df_spike.add(-sp['count'], fill_value=0)\n",
    "\n",
    "# cumulate, converion to int is not adviced if using NaNs\n",
    "df_spike = df_spike.cumsum(axis=1).astype(int)\n",
    "\n",
    "print(df_spike.shape)\n",
    "display(df_spike.head(25))\n",
    "display(df_spike.tail())"
   ]
  },
  {
   "cell_type": "code",
   "execution_count": null,
   "metadata": {
    "collapsed": false,
    "scrolled": false
   },
   "outputs": [],
   "source": [
    "# Create boolean DataFrame whether licking happens in camera frame\n",
    "\n",
    "# Check for valid data and calculate their frame\n",
    "print(behavior_data.shape)\n",
    "df_lick = behavior_data[behavior_data.loc[:,'stop_time']>behavior_data.loc[:,'start_time']].copy()\n",
    "print(licks.shape)\n",
    "df_lick['mid_frame'] = (FPS*(df_lick['start_time']+df_lick['stop_time'])/2).apply(np.round).astype(int)\n",
    "display(df_lick.head())\n",
    "display(df_lick.tail())\n",
    "# Convert to a DataFrame like df_data or df_raw, this eventually skips multiple licks in one camera frame\n",
    "df_lick = df_lick.reset_index().rename(columns={'index':'time'})\n",
    "df_lick = df_lick.drop_duplicates(['time','mid_frame']).pivot(index='time', columns='mid_frame')\n",
    "display(licks.head())\n",
    "df_lick = (~licks['lick_idx'].isnull()).astype(int)\n",
    "df_lick.columns.name = ''\n",
    "display(licks.head())\n",
    "# Number of remaining licks\n",
    "print(df_lick.sum().sum())"
   ]
  },
  {
   "cell_type": "markdown",
   "metadata": {},
   "source": [
    "## z-scoring"
   ]
  },
  {
   "cell_type": "code",
   "execution_count": null,
   "metadata": {
    "collapsed": true
   },
   "outputs": [],
   "source": [
    "def pd_zscore_rows(df):\n",
    "    ret = df.copy()\n",
    "    for idx, row in df.iterrows():\n",
    "        ret.loc[idx,:] = (row - row.mean())/row.std(ddof=0)\n",
    "    return ret\n",
    "\n",
    "def nan_zscore(data):\n",
    "    return (data-np.nanmean(data))/np.nanstd(data)\n",
    "    \n",
    "def pd_zscore(df, axis = 0):\n",
    "    with warnings.catch_warnings():\n",
    "        warnings.simplefilter('ignore', RuntimeWarning)\n",
    "        ret = df.apply(nan_zscore, axis=axis, raw=True)\n",
    "    return ret"
   ]
  },
  {
   "cell_type": "code",
   "execution_count": null,
   "metadata": {
    "collapsed": false
   },
   "outputs": [],
   "source": [
    "## BENCHMARK\n",
    "#z_spike = pd_zscore_rows(df_spike)\n",
    "#z_data = pd_zscore_rows(df_data)\n",
    "#z_lick = pd_zscore_rows(df_lick)\n",
    "\n",
    "## FAST\n",
    "z_spike = pd_zscore(df_spike, axis=1)\n",
    "z_data = pd_zscore(df_data, axis=1)\n",
    "z_lick = pd_zscore(df_lick, axis=1)"
   ]
  },
  {
   "cell_type": "markdown",
   "metadata": {},
   "source": [
    "# Plot"
   ]
  },
  {
   "cell_type": "code",
   "execution_count": null,
   "metadata": {
    "collapsed": false
   },
   "outputs": [],
   "source": [
    "%matplotlib inline\n",
    "plt.plot(df_spike.mean(axis=0), label=\"Population activity\")\n",
    "for i in range(0,len(events)):\n",
    "    plt.axvline(x=events[i]*FPS, ymin=0.0, ymax = 1.0, linewidth=1, color='k')\n",
    "plt.legend(loc='lower left')\n",
    "plt.show()"
   ]
  },
  {
   "cell_type": "code",
   "execution_count": null,
   "metadata": {
    "collapsed": false
   },
   "outputs": [],
   "source": [
    "def plot_activity(data, grp = ('context','learning_epoch','licking','puffed'), name = 'Population activity (spiking)'):\n",
    "    # NOTE: session_num is a string object therefore it is not included in the summation or averaging at the aggregation step of groupby\n",
    "    # but the traits licking and puffed are boolean and kept if uniform, so we get rid of them by conforming to the original index\n",
    "    if len(grp):\n",
    "        res = data.join(experiment_traits,how='left').groupby(grp).mean().reindex(columns=data.columns)\n",
    "        for i in range(0,len(res)):\n",
    "            plt.plot(res.values[i],label=res.index.values[i])\n",
    "    else:\n",
    "        res = data.mean(axis=0)\n",
    "        plt.plot(res.values,label='whole popuation')\n",
    "    q = np.nanpercentile(res.values,[1,99])\n",
    "    plt.ylim(np.mean(q)+2*(q-np.mean(q)))\n",
    "    for i in range(0,len(events)):\n",
    "        plt.axvline(x=events[i]*FPS, ymin=0.0, ymax = 1.0, linewidth=1, color='k')\n",
    "    plt.xlabel('Camera frame')\n",
    "    plt.ylabel(name)\n",
    "    plt.legend(loc='center left', bbox_to_anchor=(1, 0.5), title=', '.join(grp))\n",
    "    plt.show()"
   ]
  },
  {
   "cell_type": "code",
   "execution_count": null,
   "metadata": {
    "collapsed": false
   },
   "outputs": [],
   "source": [
    "plot_activity(df_spike,())"
   ]
  },
  {
   "cell_type": "markdown",
   "metadata": {},
   "source": [
    "## Z-scored spiking\n",
    "Spiking is \"True\" in the [intervals) given in transients_data.hc5"
   ]
  },
  {
   "cell_type": "markdown",
   "metadata": {},
   "source": [
    "### Single criterion\n",
    "* interestingly population activity is high both for puffed and licking during the UC session, to be checked in the cross-correlations"
   ]
  },
  {
   "cell_type": "code",
   "execution_count": null,
   "metadata": {
    "collapsed": false
   },
   "outputs": [],
   "source": [
    "plot_activity(z_spike,['context'])\n",
    "plot_activity(z_spike,['learning_epoch'])\n",
    "plot_activity(z_spike,['licking'])\n",
    "plot_activity(z_spike,['puffed'])"
   ]
  },
  {
   "cell_type": "markdown",
   "metadata": {},
   "source": [
    "### Two criteria\n",
    "* selecting (licking and puffed) makes clear that only the airpuffing correlates with UC (they are the same) and not licking\n",
    "* selecting (epoch and puffed) shows that activity during UC decreases in the post-learning period\n",
    "* selecting (context and puffed) shows that CS+ alone does not involve higher population activity"
   ]
  },
  {
   "cell_type": "code",
   "execution_count": null,
   "metadata": {
    "collapsed": false
   },
   "outputs": [],
   "source": [
    "plot_activity(z_spike,['context','learning_epoch'])\n",
    "plot_activity(z_spike,['context','licking'])\n",
    "plot_activity(z_spike,['context','puffed'])\n",
    "plot_activity(z_spike,['learning_epoch','puffed'])\n",
    "plot_activity(z_spike,['learning_epoch','licking'])\n",
    "plot_activity(z_spike,['licking','puffed'])"
   ]
  },
  {
   "cell_type": "markdown",
   "metadata": {},
   "source": [
    "### Activities conditional on epoch"
   ]
  },
  {
   "cell_type": "markdown",
   "metadata": {},
   "source": [
    "#### Pre-learning"
   ]
  },
  {
   "cell_type": "code",
   "execution_count": null,
   "metadata": {
    "collapsed": false
   },
   "outputs": [],
   "source": [
    "experiment_c = experiment_traits[experiment_traits.loc[:,'learning_epoch']=='Pre-Learning']\n",
    "print (experiment_c.shape)\n",
    "z_spike_c = z_spike.reindex(experiment_c.index, level='time')\n",
    "print (z_spike_c.shape)\n",
    "\n",
    "plot_activity(z_spike_c,['context','licking'])\n",
    "plot_activity(z_spike_c,['context','puffed'])\n",
    "plot_activity(z_spike_c,['licking','puffed'])"
   ]
  },
  {
   "cell_type": "markdown",
   "metadata": {},
   "source": [
    "#### Learning"
   ]
  },
  {
   "cell_type": "code",
   "execution_count": null,
   "metadata": {
    "collapsed": false
   },
   "outputs": [],
   "source": [
    "experiment_c = experiment_traits[experiment_traits.loc[:,'learning_epoch']=='Learning']\n",
    "print (experiment_c.shape)\n",
    "z_spike_c = z_spike.reindex(experiment_c.index, level='time')\n",
    "print (z_spike_c.shape)\n",
    "\n",
    "plot_activity(z_spike_c,['context','licking'])\n",
    "plot_activity(z_spike_c,['context','puffed'])\n",
    "plot_activity(z_spike_c,['licking','puffed'])"
   ]
  },
  {
   "cell_type": "markdown",
   "metadata": {},
   "source": [
    "#### Post-Learning"
   ]
  },
  {
   "cell_type": "code",
   "execution_count": null,
   "metadata": {
    "collapsed": false
   },
   "outputs": [],
   "source": [
    "experiment_c = experiment_traits[experiment_traits.loc[:,'learning_epoch']=='Post-Learning']\n",
    "print (experiment_c.shape)\n",
    "z_spike_c = z_spike.reindex(experiment_c.index, level='time')\n",
    "print (z_spike_c.shape)\n",
    "\n",
    "plot_activity(z_spike_c,['context','licking'])\n",
    "plot_activity(z_spike_c,['context','puffed'])\n",
    "plot_activity(z_spike_c,['licking','puffed'])"
   ]
  },
  {
   "cell_type": "code",
   "execution_count": null,
   "metadata": {
    "collapsed": false
   },
   "outputs": [],
   "source": [
    "res = z_spike_c.join(experiment_traits,how='left').groupby(['context','licking']).mean()"
   ]
  },
  {
   "cell_type": "code",
   "execution_count": null,
   "metadata": {
    "collapsed": false
   },
   "outputs": [],
   "source": [
    "experiment_c = experiment_traits.loc[:,'learning_epoch']=='Learning'\n",
    "print (experiment_c.shape)\n",
    "z_spike_c = z_spike.reindex(experiment_c.index, level='time')\n",
    "print (z_spike_c.shape)\n",
    "plot_activity(z_spike_c,['context','licking'])\n",
    "plot_activity(z_spike_c,['context','puffed'])\n",
    "plot_activity(z_spike_c,['licking','puffed'])"
   ]
  },
  {
   "cell_type": "markdown",
   "metadata": {},
   "source": [
    "### Experiment protocol configurations"
   ]
  },
  {
   "cell_type": "code",
   "execution_count": null,
   "metadata": {
    "collapsed": false
   },
   "outputs": [],
   "source": [
    "et = experiment_traits.copy()\n",
    "et['sum'] = 1\n",
    "et.groupby(['learning_epoch','context','puffed','licking']).sum()"
   ]
  },
  {
   "cell_type": "code",
   "execution_count": null,
   "metadata": {
    "collapsed": false
   },
   "outputs": [],
   "source": [
    "# Information on licking\n",
    "display(behavior_data.head(10))\n",
    "display(behavior_data.head(136).tail(10))\n",
    "display(behavior_data.head(136).tail(10)*FPS)"
   ]
  },
  {
   "cell_type": "code",
   "execution_count": null,
   "metadata": {
    "collapsed": false
   },
   "outputs": [],
   "source": [
    "# component count in a composite index, dataset size (index size x camera frames)\n",
    "print(np.array(df_data.index.levels).shape, df_data.shape)\n",
    "# index components are experiment IDs and neural unit IDs\n",
    "ix0 = df_data.index.get_level_values(0).unique()\n",
    "ix1 = df_data.index.get_level_values(1).unique()\n",
    "print(ix0,ix0.shape,'\\n',ix1,ix1.shape)"
   ]
  },
  {
   "cell_type": "code",
   "execution_count": null,
   "metadata": {
    "collapsed": false
   },
   "outputs": [],
   "source": [
    "# Plot all neural units in this experiment\n",
    "ixt = transients_data.loc[experiment_id].index.unique()\n",
    "plt.figure(figsize=(16,10))\n",
    "for i in range(0,len(ixt)):\n",
    "    unit = ixt[i]\n",
    "    firing = np.array(transients_data.loc[(experiment_id,unit),['start_frame', 'stop_frame']])\n",
    "    plt.plot(firing.T,i*np.ones_like(firing.T),c='k')\n",
    "    firing = transients_data.loc[(experiment_id,unit),'max_frame']\n",
    "    plt.plot(firing,i*np.ones_like(firing),'|',ms=5)\n",
    "for i in range(0,len(events)):\n",
    "    plt.axvline(x=events[i]*FPS, ymin=0.0, ymax = 1.0, linewidth=1, color='k')\n",
    "plt.title('Transient peaks and durations')\n",
    "plt.xlabel('Camera frame')\n",
    "plt.ylabel('Unit ID')\n",
    "plt.show()"
   ]
  },
  {
   "cell_type": "code",
   "execution_count": null,
   "metadata": {
    "collapsed": false
   },
   "outputs": [],
   "source": [
    "import pprint, pickle\n",
    "\n",
    "# Some undocumented info about the experiments\n",
    "pkl_file = open('../_share/Losonczi/msa0316_1/frame_fluor.pkl', 'rb')\n",
    "\n",
    "# Python 2.7\n",
    "data1 = pickle.load(pkl_file)\n",
    "\n",
    "# Python 3.5\n",
    "#u = pickle._Unpickler(pkl_file)\n",
    "#u.encoding = 'latin1'\n",
    "#data1 = u.load()\n",
    "    \n",
    "#pprint.pprint(data1)\n",
    "\n",
    "pprint.pprint(data1.keys())\n",
    "pprint.pprint(data1.values()[0]) # same as data1['2016-04-01-23h43m20s']"
   ]
  },
  {
   "cell_type": "code",
   "execution_count": null,
   "metadata": {
    "collapsed": false
   },
   "outputs": [],
   "source": [
    "avail = df_data.shape[0]-df_data.isnull().sum()\n",
    "plt.plot(avail)\n",
    "plt.xlabel('Camera frame within experiment')\n",
    "plt.ylabel('Available clusters')"
   ]
  },
  {
   "cell_type": "code",
   "execution_count": null,
   "metadata": {
    "collapsed": true
   },
   "outputs": [],
   "source": []
  }
 ],
 "metadata": {
  "kernelspec": {
   "display_name": "Python 2",
   "language": "python",
   "name": "python2"
  },
  "language_info": {
   "codemirror_mode": {
    "name": "ipython",
    "version": 2
   },
   "file_extension": ".py",
   "mimetype": "text/x-python",
   "name": "python",
   "nbconvert_exporter": "python",
   "pygments_lexer": "ipython2",
   "version": "2.7.11"
  }
 },
 "nbformat": 4,
 "nbformat_minor": 0
}
