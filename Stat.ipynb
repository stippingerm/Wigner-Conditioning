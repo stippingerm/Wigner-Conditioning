{
 "cells": [
  {
   "cell_type": "markdown",
   "metadata": {},
   "source": [
    "#### We need to install module future, not importing from \\_\\_future\\_\\_"
   ]
  },
  {
   "cell_type": "code",
   "execution_count": null,
   "metadata": {
    "collapsed": false
   },
   "outputs": [],
   "source": [
    "#from future.utils import PY3\n",
    "import future\n",
    "from __future__ import (absolute_import, division,\n",
    "                        print_function, unicode_literals)\n",
    "import pandas as pd\n",
    "import numpy as np\n",
    "import os\n",
    "import pprint\n",
    "from IPython.display import display\n",
    "from matplotlib import pyplot as plt\n",
    "from scipy.stats.mstats import zscore\n",
    "import warnings"
   ]
  },
  {
   "cell_type": "markdown",
   "metadata": {},
   "source": [
    "## Load files"
   ]
  },
  {
   "cell_type": "code",
   "execution_count": null,
   "metadata": {
    "collapsed": false
   },
   "outputs": [],
   "source": [
    "# Set event lengths\n",
    "durations=np.array([0,10,20,15,5])\n",
    "events=np.cumsum(durations)\n",
    "# List dir\n",
    "#mydir = '../_share/Losonczi/msa1215_1/'; FPS = 30\n",
    "mydir = '../_share/Losonczi/msa0316_1/'; FPS = 8\n",
    "os.listdir(mydir)"
   ]
  },
  {
   "cell_type": "code",
   "execution_count": null,
   "metadata": {
    "collapsed": false
   },
   "outputs": [],
   "source": [
    "# Load files\n",
    "experiment_traits = pd.read_hdf(os.path.join(mydir,'experiment_traits.h5'),key='table')\n",
    "raw_data = pd.read_hdf(os.path.join(mydir,'raw_data.h5'),key='table')\n",
    "df_data = pd.read_hdf(os.path.join(mydir,'df_data.h5'),key='table')\n",
    "transients_data = pd.read_hdf(os.path.join(mydir,'transients_data.h5'),key='table')\n",
    "behavior_data = pd.read_hdf(os.path.join(mydir,'behavior_data.h5'),key='table')"
   ]
  },
  {
   "cell_type": "code",
   "execution_count": null,
   "metadata": {
    "collapsed": false
   },
   "outputs": [],
   "source": [
    "# Available trials and ROIs\n",
    "trials = df_data.index.levels[0]\n",
    "rois = df_data.index.levels[1]\n",
    "print (df_data.shape, '\\n', trials, '\\n', rois)"
   ]
  },
  {
   "cell_type": "markdown",
   "metadata": {},
   "source": [
    "## Prepare data"
   ]
  },
  {
   "cell_type": "code",
   "execution_count": null,
   "metadata": {
    "collapsed": false
   },
   "outputs": [],
   "source": [
    "# See how many ROIs are available for which frames\n",
    "\n",
    "avail_sum = (~df_data.isnull()).sum() / len(df_data.index.levels[0])\n",
    "plt.plot(avail_sum)\n",
    "plt.xlabel('Camera frame within experiment')\n",
    "plt.ylabel('Available ROIs on average')"
   ]
  },
  {
   "cell_type": "code",
   "execution_count": null,
   "metadata": {
    "collapsed": false
   },
   "outputs": [],
   "source": [
    "# See which ROI is available in which trial and for how many frames\n",
    "\n",
    "## METHOD 1, step-by-step, simple availability\n",
    "#avail = df_data[[]].copy()\n",
    "#avail['isFound']=1\n",
    "#avail.reset_index() #[['time','roi_id','isFound']]\n",
    "## METHOD 2, directly with frame count\n",
    "avail = ((~df_data.isnull()).sum(axis=1)).to_frame('nFrames')\n",
    "\n",
    "# create table\n",
    "## METHOD A, step-by-step\n",
    "#avail.reset_index().pivot(index='time', columns='roi_id')\n",
    "## BETHOD B, taking advantage of multi-indexing\n",
    "avail = avail.unstack()\n",
    "\n",
    "print(avail.shape)\n",
    "avail.head()"
   ]
  },
  {
   "cell_type": "code",
   "execution_count": null,
   "metadata": {
    "collapsed": false
   },
   "outputs": [],
   "source": [
    "# Create boolean DataFrame which ROI is spiking in which camera frame\n",
    "\n",
    "# create empty structure for cumsum\n",
    "mir = pd.MultiIndex.from_product((trials.values,rois.values),names=('time','roi_id'))\n",
    "mic = pd.MultiIndex.from_product(('Spiking',np.array(range(0,480))),names=('','frame'))\n",
    "df_spike = pd.DataFrame(data=0,index=mir,columns=pd.Index(np.array(range(0,480)),name='frame'))\n",
    "df_spike.shape\n",
    "\n",
    "# select spike data\n",
    "spikes = transients_data.loc[transients_data['in_motion_period']==False,['start_frame','stop_frame']]\n",
    "spikes['count']=1\n",
    "\n",
    "# fill in spike start and stop points\n",
    "## METHOD 0, this kind of indeing would work for numpy, not here\n",
    "#ix0 = zip(spikes.reset_index()['time'],spikes.reset_index()['roi_id'])\n",
    "#ix1 = spikes['start_frame'].values\n",
    "#df_spike.loc[zip(ix0,ix1)]+=1\n",
    "## METHOD 1, slowest in both ways\n",
    "#for (idx,data) in spikes.iterrows():\n",
    "#    df_spike.loc[idx,data.values]+=[1,-1]\n",
    "## METHOD 2, fastest in both\n",
    "#for (idx,start,stop) in spikes.itertuples():\n",
    "#    df_spike.loc[idx,start]+=1\n",
    "#    df_spike.loc[idx,stop]-=1\n",
    "## ULTIMATE METHOD, without for loop is best:\n",
    "sp = spikes[['start_frame','count']].pivot(columns='start_frame').fillna(0)\n",
    "#sp.columns = pd.Index(sp.columns.levels[1].values) # would eliminate the need for ['count'] below\n",
    "df_spike = df_spike.add(sp['count'], fill_value=0)\n",
    "sp = spikes[['stop_frame','count']].pivot(columns='stop_frame').fillna(0)\n",
    "#sp.columns = pd.Index(sp.columns.levels[1].values) # would eliminate the need for ['count'] below\n",
    "df_spike = df_spike.add(-sp['count'], fill_value=0)\n",
    "\n",
    "# cumulate, converion to int is not adviced if using NaNs\n",
    "df_spike = df_spike.cumsum(axis=1).astype(int)\n",
    "\n",
    "print(df_spike.shape)\n",
    "display(df_spike.head(25))\n",
    "display(df_spike.tail())"
   ]
  },
  {
   "cell_type": "code",
   "execution_count": null,
   "metadata": {
    "collapsed": false,
    "scrolled": false
   },
   "outputs": [],
   "source": [
    "# Create boolean DataFrame whether licking happens in camera frame\n",
    "\n",
    "# Check for valid data and calculate their frame\n",
    "print(behavior_data.shape)\n",
    "df_lick = behavior_data[behavior_data.loc[:,'stop_time']>behavior_data.loc[:,'start_time']].copy()\n",
    "print(df_lick.shape)\n",
    "df_lick['mid_frame'] = (FPS*(df_lick['start_time']+df_lick['stop_time'])/2).apply(np.round).astype(int)\n",
    "display(df_lick.head())\n",
    "display(df_lick.tail())\n",
    "# Convert to a DataFrame like df_data or df_raw, this eventually skips multiple licks in one camera frame\n",
    "df_lick = df_lick.reset_index().rename(columns={'index':'time'})\n",
    "df_lick = df_lick.drop_duplicates(['time','mid_frame']).pivot(index='time', columns='mid_frame')\n",
    "display(df_lick.head())\n",
    "df_lick = (~df_lick['lick_idx'].isnull()).astype(int)\n",
    "df_lick.columns.name = ''\n",
    "display(df_lick.head())\n",
    "# Number of remaining licks\n",
    "print(df_lick.sum().sum())\n",
    "# Smoothen\n",
    "from scipy.ndimage.filters import gaussian_filter\n",
    "df_lick = df_lick.apply(lambda x: gaussian_filter(x.astype(float), sigma=2), axis=1, raw=True)\n",
    "display(df_lick.head())"
   ]
  },
  {
   "cell_type": "markdown",
   "metadata": {},
   "source": [
    "## z-scoring"
   ]
  },
  {
   "cell_type": "code",
   "execution_count": null,
   "metadata": {
    "collapsed": true
   },
   "outputs": [],
   "source": [
    "def pd_zscore_rows(df):\n",
    "    ret = df.copy()\n",
    "    for idx, row in df.iterrows():\n",
    "        ret.loc[idx,:] = (row - row.mean())/row.std(ddof=0)\n",
    "    return ret\n",
    "\n",
    "def nan_zscore(data):\n",
    "    return (data-np.nanmean(data))/np.nanstd(data)\n",
    "    \n",
    "def pd_zscore(df, axis = 0):\n",
    "    with warnings.catch_warnings():\n",
    "        warnings.simplefilter('ignore', RuntimeWarning)\n",
    "        ret = df.apply(nan_zscore, axis=axis, raw=True)\n",
    "    return ret"
   ]
  },
  {
   "cell_type": "code",
   "execution_count": null,
   "metadata": {
    "collapsed": false
   },
   "outputs": [],
   "source": [
    "## BENCHMARK\n",
    "#z_spike = pd_zscore_rows(df_spike)\n",
    "#z_data = pd_zscore_rows(df_data)\n",
    "#z_raw = pd_zscore_rows(df_raw)\n",
    "#z_lick = pd_zscore_rows(df_lick)\n",
    "\n",
    "## FAST\n",
    "z_spike = pd_zscore(df_spike, axis=1)\n",
    "z_data = pd_zscore(df_data, axis=1)\n",
    "z_raw = pd_zscore(raw_data, axis=1)\n",
    "z_lick = pd_zscore(df_lick, axis=1)"
   ]
  },
  {
   "cell_type": "code",
   "execution_count": null,
   "metadata": {
    "collapsed": true
   },
   "outputs": [],
   "source": [
    "z_data = z_data.sort_index()\n",
    "z_raw = z_raw.sort_index()"
   ]
  },
  {
   "cell_type": "markdown",
   "metadata": {},
   "source": [
    "## Experiment protocol configurations"
   ]
  },
  {
   "cell_type": "code",
   "execution_count": null,
   "metadata": {
    "collapsed": false
   },
   "outputs": [],
   "source": [
    "et = experiment_traits.copy()\n",
    "et['sum'] = 1\n",
    "et.groupby(['learning_epoch','context','puffed','licking']).sum()"
   ]
  },
  {
   "cell_type": "markdown",
   "metadata": {},
   "source": [
    "# Plot"
   ]
  },
  {
   "cell_type": "code",
   "execution_count": null,
   "metadata": {
    "collapsed": false
   },
   "outputs": [],
   "source": [
    "%matplotlib inline\n",
    "plt.plot(df_spike.mean(axis=0), label=\"Population activity\")\n",
    "for i in range(0,len(events)):\n",
    "    plt.axvline(x=events[i]*FPS, ymin=0.0, ymax = 1.0, linewidth=1, color='k')\n",
    "plt.legend(loc='lower left')\n",
    "plt.show()"
   ]
  },
  {
   "cell_type": "code",
   "execution_count": null,
   "metadata": {
    "collapsed": false
   },
   "outputs": [],
   "source": [
    "from matplotlib.backends.backend_pdf import PdfPages\n",
    "\n",
    "class helpmultipage(object):\n",
    "    def __init__(self, filename):\n",
    "        self.filename = filename\n",
    "        self.isopen = False\n",
    "        self.open()\n",
    "        \n",
    "    def __del__(self):\n",
    "        self.close()\n",
    "        \n",
    "    def savefig(self):\n",
    "        if self.isopen:\n",
    "            self.pp.savefig()\n",
    "\n",
    "    def open(self):\n",
    "        if ~self.isopen:\n",
    "            self.pp = PdfPages(self.filename)\n",
    "        self.isopen = True\n",
    "        \n",
    "    def close(self):\n",
    "        if self.isopen:\n",
    "            self.pp.close()\n",
    "        self.isopen = False"
   ]
  },
  {
   "cell_type": "code",
   "execution_count": null,
   "metadata": {
    "collapsed": false
   },
   "outputs": [],
   "source": [
    "def plot_activity(data, grp = ['context','learning_epoch','licking','puffed'], name = 'Population activity (spiking)', ax = None):\n",
    "    # NOTE: session_num is a string object therefore it is not included in the summation or averaging at the aggregation step of groupby\n",
    "    # but the traits licking and puffed are boolean and kept if uniform, so we get rid of them by conforming to the original index\n",
    "    from matplotlib.font_manager import FontProperties\n",
    "    fontP = FontProperties()\n",
    "    fontP.set_size('xx-small')\n",
    "    if ax is None:\n",
    "        fig = plt.figure()\n",
    "        ax = fig.gca()\n",
    "    if len(grp):\n",
    "        res = data.join(experiment_traits,how='left').groupby(grp).mean().reindex(columns=data.columns)\n",
    "        for i in range(0,len(res)):\n",
    "            ax.plot(res.values[i],label=res.index.values[i])\n",
    "    else:\n",
    "        res = data.mean(axis=0)\n",
    "        ax.plot(res.values,label='whole popuation')\n",
    "    q = np.nanpercentile(res.values,[1,99])\n",
    "    ax.set_ylim(np.mean(q)+2*(q-np.mean(q)))\n",
    "    for i in range(0,len(events)):\n",
    "        ax.axvline(x=events[i]*FPS, ymin=0.0, ymax = 1.0, linewidth=1, color='k')\n",
    "    ax.set_xlabel('Camera frame')\n",
    "    ax.set_ylabel(name)\n",
    "    leg = ax.legend(loc='center left', bbox_to_anchor=(1, 0.5), title=', '.join(grp)) # prop=fontP)\n",
    "    leg.get_title().set_fontsize('large')\n",
    "    leg.get_title().set_fontweight('bold')\n",
    "    #ax.show()"
   ]
  },
  {
   "cell_type": "code",
   "execution_count": null,
   "metadata": {
    "collapsed": false
   },
   "outputs": [],
   "source": [
    "def plot_data(df_spike, df_data, df_lick, grps = [[]], title=''):\n",
    "    ncol = len(grps)\n",
    "    fig, ax = plt.subplots(3, ncol, figsize=(6*ncol,13), sharex=True, squeeze=False, dpi=72)\n",
    "    fig.tight_layout(pad=3, h_pad=3, rect=(0,0,1,0.80))\n",
    "    if len(title):\n",
    "        fig.suptitle(title, fontsize=16)\n",
    "    for i in range(0, ncol):\n",
    "        plot_activity(df_spike,grps[i],\"Spiking\",ax=ax[0,i])\n",
    "        leg = ax[0,i].legend(loc='lower center', bbox_to_anchor=(0.5, 1.1), title=', '.join(grps[i]))\n",
    "        leg.get_title().set_fontsize('large')\n",
    "        leg.get_title().set_fontweight('bold')\n",
    "        plot_activity(df_data,grps[i],\"Ca-level\",ax=ax[1,i])\n",
    "        ax[1,i].legend_.remove()\n",
    "        plot_activity(df_lick,grps[i],\"Lick/frame\",ax=ax[2,i])\n",
    "        ax[2,i].legend_.remove()\n",
    "    with warnings.catch_warnings():\n",
    "        warnings.simplefilter('ignore', UserWarning)\n",
    "        fig.show()"
   ]
  },
  {
   "cell_type": "code",
   "execution_count": null,
   "metadata": {
    "collapsed": false
   },
   "outputs": [],
   "source": [
    "pp = helpmultipage('pop.pdf')"
   ]
  },
  {
   "cell_type": "code",
   "execution_count": null,
   "metadata": {
    "collapsed": false
   },
   "outputs": [],
   "source": [
    "plot_data(df_spike, df_data, df_lick)\n",
    "pp.savefig()"
   ]
  },
  {
   "cell_type": "markdown",
   "metadata": {},
   "source": [
    "## Z-scored spiking\n",
    "Spiking is \"True\" in the [intervals) given in transients_data.hc5"
   ]
  },
  {
   "cell_type": "markdown",
   "metadata": {},
   "source": [
    "### Single criterion\n",
    "* interestingly population activity is high both for puffed and licking during the UC session, to be checked in the cross-correlations"
   ]
  },
  {
   "cell_type": "code",
   "execution_count": null,
   "metadata": {
    "collapsed": false
   },
   "outputs": [],
   "source": [
    "plot_data(z_spike, z_data, z_lick, [['context'],['learning_epoch'],['licking'],['puffed']], title='Population activity')\n",
    "pp.savefig()"
   ]
  },
  {
   "cell_type": "markdown",
   "metadata": {},
   "source": [
    "### Two criteria\n",
    "* selecting (licking and puffed) makes clear that only the airpuffing correlates with UC (they are the same) and not licking\n",
    "* selecting (epoch and puffed) shows that activity during UC decreases in the post-learning period\n",
    "* selecting (context and puffed) shows that CS+ alone does not involve higher population activity"
   ]
  },
  {
   "cell_type": "code",
   "execution_count": null,
   "metadata": {
    "collapsed": false
   },
   "outputs": [],
   "source": [
    "plot_data(z_spike, z_data, z_lick, [['context','learning_epoch'],['context','licking'],['context','puffed'],['learning_epoch','puffed'],['learning_epoch','licking'],['licking','puffed']], title='Population activity')\n",
    "pp.savefig()"
   ]
  },
  {
   "cell_type": "markdown",
   "metadata": {},
   "source": [
    "### Activities conditional on epoch"
   ]
  },
  {
   "cell_type": "markdown",
   "metadata": {},
   "source": [
    "#### Pre-learning"
   ]
  },
  {
   "cell_type": "code",
   "execution_count": null,
   "metadata": {
    "collapsed": false
   },
   "outputs": [],
   "source": [
    "experiment_c = experiment_traits[experiment_traits.loc[:,'learning_epoch']=='Pre-Learning']\n",
    "print (experiment_c.shape)\n",
    "z_spike_c = z_spike.reindex(experiment_c.index, level='time')\n",
    "z_data_c = z_data.reindex(experiment_c.index, level='time')\n",
    "z_raw_c = z_raw.reindex(experiment_c.index, level='time')\n",
    "z_lick_c = z_lick.reindex(experiment_c.index)\n",
    "print (z_spike_c.shape)\n",
    "\n",
    "plot_data(z_spike_c, z_data_c, z_lick_c, [['context','licking'],['context','puffed'],['licking','puffed']], title='Pre-Learning')\n",
    "pp.savefig()"
   ]
  },
  {
   "cell_type": "markdown",
   "metadata": {},
   "source": [
    "#### Learning"
   ]
  },
  {
   "cell_type": "code",
   "execution_count": null,
   "metadata": {
    "collapsed": false
   },
   "outputs": [],
   "source": [
    "experiment_c = experiment_traits[experiment_traits.loc[:,'learning_epoch']=='Learning']\n",
    "print (experiment_c.shape)\n",
    "z_spike_c = z_spike.reindex(experiment_c.index, level='time')\n",
    "z_data_c = z_data.reindex(experiment_c.index, level='time')\n",
    "z_raw_c = z_raw.reindex(experiment_c.index, level='time')\n",
    "z_lick_c = z_lick.reindex(experiment_c.index)\n",
    "print (z_spike_c.shape)\n",
    "\n",
    "plot_data(z_spike_c, z_data_c, z_lick_c, [['context','licking'],['context','puffed'],['licking','puffed']], title='Learning')\n",
    "pp.savefig()"
   ]
  },
  {
   "cell_type": "markdown",
   "metadata": {},
   "source": [
    "#### Post-Learning"
   ]
  },
  {
   "cell_type": "code",
   "execution_count": null,
   "metadata": {
    "collapsed": false
   },
   "outputs": [],
   "source": [
    "experiment_c = experiment_traits[experiment_traits.loc[:,'learning_epoch']=='Post-Learning']\n",
    "print (experiment_c.shape)\n",
    "z_spike_c = z_spike.reindex(experiment_c.index, level='time')\n",
    "z_data_c = z_data.reindex(experiment_c.index, level='time')\n",
    "z_raw_c = z_raw.reindex(experiment_c.index, level='time')\n",
    "z_lick_c = z_lick.reindex(experiment_c.index)\n",
    "print (z_spike_c.shape)\n",
    "\n",
    "plot_data(z_spike_c, z_data_c, z_lick_c, [['context','licking'],['context','puffed'],['licking','puffed']], title='Post-Learning')\n",
    "pp.savefig()"
   ]
  },
  {
   "cell_type": "code",
   "execution_count": null,
   "metadata": {
    "collapsed": true
   },
   "outputs": [],
   "source": [
    "pp.close()"
   ]
  },
  {
   "cell_type": "markdown",
   "metadata": {},
   "source": [
    "## Individual ROIs\n",
    "* since there are many of them, save figure to pdf"
   ]
  },
  {
   "cell_type": "code",
   "execution_count": null,
   "metadata": {
    "collapsed": true
   },
   "outputs": [],
   "source": [
    "def plot_roi(df_spike, df_data, grps = [[]], title=''):\n",
    "    ncol = len(grps)\n",
    "    fig, ax = plt.subplots(2, ncol, figsize=(6*ncol,9), sharex=True, squeeze=False, dpi=72)\n",
    "    fig.tight_layout(pad=3, h_pad=3, rect=(0,0,1,0.80))\n",
    "    if len(title):\n",
    "        fig.suptitle(title, fontsize=16)\n",
    "    for i in range(0, ncol):\n",
    "        plot_activity(df_spike,grps[i],\"Spiking\",ax=ax[0,i])\n",
    "        leg = ax[0,i].legend(loc='lower center', bbox_to_anchor=(0.5, 1.1), title=', '.join(grps[i]))\n",
    "        leg.get_title().set_fontsize('large')\n",
    "        leg.get_title().set_fontweight('bold')\n",
    "        plot_activity(df_data,grps[i],\"Ca-level\",ax=ax[1,i])\n",
    "        ax[1,i].legend_.remove()\n",
    "    with warnings.catch_warnings():\n",
    "        warnings.simplefilter('ignore', UserWarning)\n",
    "        #fig.show()\n",
    "    return fig"
   ]
  },
  {
   "cell_type": "code",
   "execution_count": null,
   "metadata": {
    "collapsed": false
   },
   "outputs": [],
   "source": [
    "pp = PdfPages('roi1crit.pdf')\n",
    "for i in range(0,len(rois)):\n",
    "    z_spike_c = z_spike.loc[(slice(None),rois[i]),:]\n",
    "    z_data_c = z_data.loc[(slice(None),rois[i]),:]\n",
    "    z_raw_c = z_raw.loc[(slice(None),rois[i]),:]\n",
    "    fig = plot_roi(z_spike_c, z_data_c, [['context'],['learning_epoch'],['licking'],['puffed']], title='ROI %d:\\n%s'%(i,rois[i]))\n",
    "    pp.savefig()\n",
    "    plt.close(fig)\n",
    "pp.close()"
   ]
  },
  {
   "cell_type": "code",
   "execution_count": null,
   "metadata": {
    "collapsed": false
   },
   "outputs": [],
   "source": [
    "pp = PdfPages('roi2crit.pdf')\n",
    "for i in range(0,len(rois)):\n",
    "    z_spike_c = z_spike.loc[(slice(None),rois[i]),:]\n",
    "    z_data_c = z_data.loc[(slice(None),rois[i]),:]\n",
    "    z_raw_c = z_raw.loc[(slice(None),rois[i]),:]\n",
    "    fig = plot_roi(z_spike_c, z_data_c, [['learning_epoch','context'],['learning_epoch','licking'],['learning_epoch','puffed'],['context','licking'],['context','puffed'],['licking','puffed']], title='ROI %d:\\n%s'%(i,rois[i]))\n",
    "    pp.savefig()\n",
    "    plt.close(fig)\n",
    "pp.close()"
   ]
  },
  {
   "cell_type": "markdown",
   "metadata": {},
   "source": [
    "### An example of spiking\n",
    "The first 1 second of the recording seems missing"
   ]
  },
  {
   "cell_type": "code",
   "execution_count": null,
   "metadata": {
    "collapsed": false
   },
   "outputs": [],
   "source": [
    "# Plot all neural units in this experiment\n",
    "experiment_id = experiment_traits.ix[0,'time']\n",
    "ixt = transients_data.loc[experiment_id].index.unique()\n",
    "plt.figure(figsize=(16,10))\n",
    "for i in range(0,len(ixt)):\n",
    "    unit = ixt[i]\n",
    "    firing = np.array(transients_data.loc[(experiment_id,unit),['start_frame', 'stop_frame']])\n",
    "    plt.plot(firing.T,i*np.ones_like(firing.T),c='k')\n",
    "    firing = transients_data.loc[(experiment_id,unit),'max_frame']\n",
    "    plt.plot(firing,i*np.ones_like(firing),'|',ms=5)\n",
    "for i in range(0,len(events)):\n",
    "    plt.axvline(x=events[i]*FPS, ymin=0.0, ymax = 1.0, linewidth=1, color='k')\n",
    "plt.title('Transient peaks and durations')\n",
    "plt.xlabel('Camera frame')\n",
    "plt.ylabel('Unit ID')\n",
    "plt.show()"
   ]
  },
  {
   "cell_type": "markdown",
   "metadata": {},
   "source": [
    "### Some undocumented data"
   ]
  },
  {
   "cell_type": "code",
   "execution_count": null,
   "metadata": {
    "collapsed": false
   },
   "outputs": [],
   "source": [
    "import pprint, pickle\n",
    "\n",
    "# Some undocumented info about the experiments\n",
    "pkl_file = open('../_share/Losonczi/msa0316_1/frame_fluor.pkl', 'rb')\n",
    "\n",
    "# Python 2.7\n",
    "data1 = pickle.load(pkl_file)\n",
    "\n",
    "# Python 3.5\n",
    "#u = pickle._Unpickler(pkl_file)\n",
    "#u.encoding = 'latin1'\n",
    "#data1 = u.load()\n",
    "    \n",
    "#pprint.pprint(data1)\n",
    "\n",
    "pprint.pprint(data1.keys())\n",
    "pprint.pprint(data1.values()[0]) # same as data1['2016-04-01-23h43m20s']"
   ]
  },
  {
   "cell_type": "code",
   "execution_count": null,
   "metadata": {
    "collapsed": true
   },
   "outputs": [],
   "source": []
  }
 ],
 "metadata": {
  "kernelspec": {
   "display_name": "Python 2",
   "language": "python",
   "name": "python2"
  },
  "language_info": {
   "codemirror_mode": {
    "name": "ipython",
    "version": 2
   },
   "file_extension": ".py",
   "mimetype": "text/x-python",
   "name": "python",
   "nbconvert_exporter": "python",
   "pygments_lexer": "ipython2",
   "version": "2.7.11"
  }
 },
 "nbformat": 4,
 "nbformat_minor": 0
}
