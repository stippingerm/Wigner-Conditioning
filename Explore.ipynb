{
 "cells": [
  {
   "cell_type": "markdown",
   "metadata": {},
   "source": [
    "#### We need to install module future, not importing from \\_\\_future\\_\\_"
   ]
  },
  {
   "cell_type": "code",
   "execution_count": null,
   "metadata": {
    "collapsed": false
   },
   "outputs": [],
   "source": [
    "#from __future__ import (absolute_import, division,\n",
    "#                        print_function, unicode_literals)\n",
    "#from builtins import (\n",
    "#         bytes, dict, int, list, object, range, str,\n",
    "#         ascii, chr, hex, input, next, oct, open,\n",
    "#         pow, round, super,\n",
    "#         filter, map, zip)"
   ]
  },
  {
   "cell_type": "code",
   "execution_count": null,
   "metadata": {
    "collapsed": false
   },
   "outputs": [],
   "source": [
    "#from future.utils import PY3\n",
    "#from __future__ import (absolute_import, division,\n",
    "#                        print_function, unicode_literals)\n",
    "import future\n",
    "import pandas as pd\n",
    "import os"
   ]
  },
  {
   "cell_type": "markdown",
   "metadata": {},
   "source": [
    "#### Load files"
   ]
  },
  {
   "cell_type": "code",
   "execution_count": null,
   "metadata": {
    "collapsed": false
   },
   "outputs": [],
   "source": [
    "os.listdir('../_share/Losonczi/msa0316_1')"
   ]
  },
  {
   "cell_type": "code",
   "execution_count": null,
   "metadata": {
    "collapsed": true
   },
   "outputs": [],
   "source": [
    "h1 = pd.HDFStore('../_share/Losonczi/msa0316_1/experiment_traits.h5')\n",
    "h2 = pd.HDFStore('../_share/Losonczi/msa0316_1/raw_data.h5')\n",
    "h3 = pd.HDFStore('../_share/Losonczi/msa0316_1/df_data.h5')\n",
    "h4 = pd.HDFStore('../_share/Losonczi/msa0316_1/transients_data.h5')\n",
    "h5 = pd.HDFStore('../_share/Losonczi/msa0316_1/behavior_data.h5')"
   ]
  },
  {
   "cell_type": "code",
   "execution_count": null,
   "metadata": {
    "collapsed": false
   },
   "outputs": [],
   "source": [
    "print(h1)\n",
    "print(h2)\n",
    "print(h3)\n",
    "print(h4)\n",
    "print(h5)"
   ]
  },
  {
   "cell_type": "markdown",
   "metadata": {},
   "source": [
    "#### Display data"
   ]
  },
  {
   "cell_type": "code",
   "execution_count": null,
   "metadata": {
    "collapsed": false
   },
   "outputs": [],
   "source": [
    "h1.get('table')"
   ]
  },
  {
   "cell_type": "code",
   "execution_count": null,
   "metadata": {
    "collapsed": false
   },
   "outputs": [],
   "source": [
    "h2.get('table')"
   ]
  },
  {
   "cell_type": "code",
   "execution_count": null,
   "metadata": {
    "collapsed": false
   },
   "outputs": [],
   "source": [
    "h2.get('table').loc['2016-04-08-00h15m23s']"
   ]
  },
  {
   "cell_type": "code",
   "execution_count": null,
   "metadata": {
    "collapsed": false
   },
   "outputs": [],
   "source": [
    "h2.get('table').sort_index().loc[(slice(None),'0001-0483-0301'),:]"
   ]
  },
  {
   "cell_type": "code",
   "execution_count": null,
   "metadata": {
    "collapsed": false
   },
   "outputs": [],
   "source": [
    "h3.get('table')"
   ]
  },
  {
   "cell_type": "code",
   "execution_count": null,
   "metadata": {
    "collapsed": false
   },
   "outputs": [],
   "source": [
    "h4.get('table')"
   ]
  },
  {
   "cell_type": "code",
   "execution_count": null,
   "metadata": {
    "collapsed": false
   },
   "outputs": [],
   "source": [
    "h5.get('table')"
   ]
  },
  {
   "cell_type": "code",
   "execution_count": null,
   "metadata": {
    "collapsed": false
   },
   "outputs": [],
   "source": [
    "import pprint, pickle\n",
    "\n",
    "pkl_file = open('../_share/Losonczi/msa0316_1/frame_fluor.pkl', 'rb')\n",
    "\n",
    "# Python 2.7\n",
    "data1 = pickle.load(pkl_file)\n",
    "\n",
    "# Python 3.5\n",
    "#u = pickle._Unpickler(pkl_file)\n",
    "#u.encoding = 'latin1'\n",
    "#data1 = u.load()\n",
    "    \n",
    "#pprint.pprint(data1)\n",
    "\n",
    "pprint.pprint(data1.keys())\n",
    "pprint.pprint(data1['2016-04-01-23h43m20s'])"
   ]
  },
  {
   "cell_type": "code",
   "execution_count": null,
   "metadata": {
    "collapsed": true
   },
   "outputs": [],
   "source": []
  }
 ],
 "metadata": {
  "kernelspec": {
   "display_name": "Python 2",
   "language": "python",
   "name": "python2"
  },
  "language_info": {
   "codemirror_mode": {
    "name": "ipython",
    "version": 2
   },
   "file_extension": ".py",
   "mimetype": "text/x-python",
   "name": "python",
   "nbconvert_exporter": "python",
   "pygments_lexer": "ipython2",
   "version": "2.7.11"
  }
 },
 "nbformat": 4,
 "nbformat_minor": 0
}
