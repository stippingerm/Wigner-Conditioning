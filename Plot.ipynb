{
 "cells": [
  {
   "cell_type": "markdown",
   "metadata": {},
   "source": [
    "#### We need to install module future, not importing from \\_\\_future\\_\\_"
   ]
  },
  {
   "cell_type": "code",
   "execution_count": null,
   "metadata": {
    "collapsed": false
   },
   "outputs": [],
   "source": [
    "#from future.utils import PY3\n",
    "import future\n",
    "from __future__ import (absolute_import, division,\n",
    "                        print_function, unicode_literals)\n",
    "import pandas as pd\n",
    "import numpy as np\n",
    "import os\n",
    "import pprint\n",
    "from matplotlib import pyplot as plt"
   ]
  },
  {
   "cell_type": "markdown",
   "metadata": {},
   "source": [
    "#### Load files"
   ]
  },
  {
   "cell_type": "code",
   "execution_count": null,
   "metadata": {
    "collapsed": false
   },
   "outputs": [],
   "source": [
    "# List dir\n",
    "#mydir = '../_share/Losonczi/msa1215_1/'\n",
    "mydir = '../_share/Losonczi/msa0316_1/'\n",
    "os.listdir(mydir)"
   ]
  },
  {
   "cell_type": "code",
   "execution_count": null,
   "metadata": {
    "collapsed": false
   },
   "outputs": [],
   "source": [
    "# Load files\n",
    "experiment_traits = pd.read_hdf(os.path.join(mydir,'experiment_traits.h5'),key='table')\n",
    "raw_data = pd.read_hdf(os.path.join(mydir,'raw_data.h5'),key='table')\n",
    "df_data = pd.read_hdf(os.path.join(mydir,'df_data.h5'),key='table')\n",
    "transients_data = pd.read_hdf(os.path.join(mydir,'transients_data.h5'),key='table')\n",
    "behavior_data = pd.read_hdf(os.path.join(mydir,'behavior_data.h5'),key='table')"
   ]
  },
  {
   "cell_type": "code",
   "execution_count": null,
   "metadata": {
    "collapsed": false
   },
   "outputs": [],
   "source": [
    "# Show headers\n",
    "variables = ['experiment_traits', 'raw_data', 'df_data', 'transients_data', 'behavior_data']\n",
    "for myname in variables:\n",
    "    myvar = globals()[myname]\n",
    "    print(myname, myvar.columns.values, myvar.shape)"
   ]
  },
  {
   "cell_type": "markdown",
   "metadata": {},
   "source": [
    "# IS IT REALLY <font color=\"red\">8 FPS</font>?\n",
    "## Moreover, are we missing the first 1sec of almost all sessions?"
   ]
  },
  {
   "cell_type": "code",
   "execution_count": null,
   "metadata": {
    "collapsed": false
   },
   "outputs": [],
   "source": [
    "# Set event lengths\n",
    "durations=np.array([0,10,20,15,5])\n",
    "events=np.cumsum(durations)\n",
    "FPS=8"
   ]
  },
  {
   "cell_type": "markdown",
   "metadata": {},
   "source": [
    "#### Display data"
   ]
  },
  {
   "cell_type": "code",
   "execution_count": null,
   "metadata": {
    "collapsed": false
   },
   "outputs": [],
   "source": [
    "experiment_traits.head(10)"
   ]
  },
  {
   "cell_type": "code",
   "execution_count": null,
   "metadata": {
    "collapsed": false
   },
   "outputs": [],
   "source": [
    "et = experiment_traits.copy()\n",
    "et['sum'] = 1\n",
    "et.groupby(['learning_epoch','context','puffed','licking']).sum()"
   ]
  },
  {
   "cell_type": "code",
   "execution_count": null,
   "metadata": {
    "collapsed": false
   },
   "outputs": [],
   "source": [
    "# Look for an ID where there was conditional stimulus [sound paired with unconditional stimulus] (CS+), learning experience and unconditional stimulus (US)\n",
    "allcond = experiment_traits[(experiment_traits.context=='CS+') & (experiment_traits.learning_epoch=='Post-Learning') & (experiment_traits.puffed==True)]\n",
    "experiment_id = allcond.ix[0]['time']\n",
    "allcond.head()"
   ]
  },
  {
   "cell_type": "code",
   "execution_count": null,
   "metadata": {
    "collapsed": false
   },
   "outputs": [],
   "source": [
    "# Information on licking\n",
    "behavior_data.head(10)"
   ]
  },
  {
   "cell_type": "code",
   "execution_count": null,
   "metadata": {
    "collapsed": false
   },
   "outputs": [],
   "source": [
    "# Filtered calcium levels\n",
    "df_data.head()"
   ]
  },
  {
   "cell_type": "code",
   "execution_count": null,
   "metadata": {
    "collapsed": false
   },
   "outputs": [],
   "source": [
    "# component count in a composite index, dataset size (index size x camera frames)\n",
    "print(np.array(df_data.index.levels).shape, df_data.shape)\n",
    "# index components are experiment IDs and neural unit IDs\n",
    "ix0 = df_data.index.get_level_values(0).unique()\n",
    "ix1 = df_data.index.get_level_values(1).unique()\n",
    "print(ix0,ix0.shape,'\\n',ix1,ix1.shape)\n",
    "# Plot sample calcium levels\n",
    "nsamples = 5\n",
    "sel_df = raw_data.loc[experiment_id].ix[0:nsamples,:]\n",
    "sel_time = (0, len(sel_df.columns))\n",
    "sel_units = sel_df.index.values\n",
    "sel_data = sel_df.values\n",
    "%matplotlib inline\n",
    "plt.plot(sel_data.T)\n",
    "plt.title('Raw data')\n",
    "plt.xlabel('Camera frame')\n",
    "plt.ylabel('Raw Ca level')\n",
    "plt.show()\n",
    "data = df_data.loc[experiment_id].ix[0:5,:]\n",
    "%matplotlib inline\n",
    "plt.plot(data.T)\n",
    "plt.title('Filtered data')\n",
    "plt.xlabel('Camera frame')\n",
    "plt.ylabel('Processed Ca level')\n",
    "plt.show()"
   ]
  },
  {
   "cell_type": "code",
   "execution_count": null,
   "metadata": {
    "collapsed": false
   },
   "outputs": [],
   "source": [
    "# Information about spikes\n",
    "transients_data.head(10)"
   ]
  },
  {
   "cell_type": "code",
   "execution_count": null,
   "metadata": {
    "collapsed": false
   },
   "outputs": [],
   "source": [
    "print(sel_units)\n",
    "%matplotlib inline\n",
    "# Show the same figure as above\n",
    "fig, (ax1, ax2) = plt.subplots(2, 1, figsize=(6,8), sharex=True)\n",
    "ax1.plot(data.T)\n",
    "ax1.set_title('Filtered data')\n",
    "ax1.set_xlabel('Camera frame')\n",
    "ax1.set_ylabel('Processed Ca level')\n",
    "\n",
    "# Plot transient maximum times for the same neural units\n",
    "max_places = transients_data.loc[experiment_id]['max_frame']\n",
    "for i in range(0,len(sel_units)):\n",
    "    unit = sel_units[i]\n",
    "    firing = max_places.loc[unit]\n",
    "    ax2.plot(firing,i*np.ones_like(firing),'x',ms=10)\n",
    "start_end = transients_data.loc[experiment_id][['start_frame', 'stop_frame']]\n",
    "for i in range(0,len(sel_units)):\n",
    "    unit = sel_units[i]\n",
    "    firing = np.array(start_end.loc[unit])\n",
    "    ax2.plot(firing.T,i*np.ones_like(firing.T),'k')\n",
    "ax2.set_ylim((-1,len(sel_units)))\n",
    "ax2.set_title('Transient peaks and durations')\n",
    "ax2.set_xlabel('Camera frame')\n",
    "ax2.set_ylabel('Unit ID')\n",
    "plt.show()"
   ]
  },
  {
   "cell_type": "code",
   "execution_count": null,
   "metadata": {
    "collapsed": false
   },
   "outputs": [],
   "source": [
    "# Plot all neural units in this experiment\n",
    "ixt = transients_data.loc[experiment_id].index.unique()\n",
    "plt.figure(figsize=(16,10))\n",
    "for i in range(0,len(ixt)):\n",
    "    unit = ixt[i]\n",
    "    firing = transients_data.loc[(experiment_id,unit),'max_frame']\n",
    "    plt.plot(firing,i*np.ones_like(firing),'|',ms=5)\n",
    "for i in range(0,len(events)):\n",
    "    plt.axvline(x=events[i]*FPS, ymin=0.0, ymax = 1.0, linewidth=1, color='k')\n",
    "plt.title('Transient peaks')\n",
    "plt.xlabel('Camera frame')\n",
    "plt.ylabel('Unit ID')\n",
    "plt.show()"
   ]
  },
  {
   "cell_type": "code",
   "execution_count": null,
   "metadata": {
    "collapsed": false
   },
   "outputs": [],
   "source": [
    "# Plot all neural units in this experiment\n",
    "ixt = transients_data.loc[experiment_id].index.unique()\n",
    "plt.figure(figsize=(16,10))\n",
    "for i in range(0,len(ixt)):\n",
    "    unit = ixt[i]\n",
    "    firing = np.array(transients_data.loc[(experiment_id,unit),['start_frame', 'stop_frame']])\n",
    "    plt.plot(firing.T,i*np.ones_like(firing.T),c='k')\n",
    "    firing = transients_data.loc[(experiment_id,unit),'max_frame']\n",
    "    plt.plot(firing,i*np.ones_like(firing),'|',ms=5)\n",
    "for i in range(0,len(events)):\n",
    "    plt.axvline(x=events[i]*FPS, ymin=0.0, ymax = 1.0, linewidth=1, color='k')\n",
    "plt.title('Transient peaks and durations')\n",
    "plt.xlabel('Camera frame')\n",
    "plt.ylabel('Unit ID')\n",
    "plt.show()"
   ]
  },
  {
   "cell_type": "code",
   "execution_count": null,
   "metadata": {
    "collapsed": false
   },
   "outputs": [],
   "source": [
    "# The same in tabular format\n",
    "transients_data.loc[experiment_id]"
   ]
  },
  {
   "cell_type": "code",
   "execution_count": null,
   "metadata": {
    "collapsed": false
   },
   "outputs": [],
   "source": [
    "import pprint, pickle\n",
    "\n",
    "# Some undocumented info about the experiments\n",
    "pkl_file = open('../_share/Losonczi/msa0316_1/frame_fluor.pkl', 'rb')\n",
    "\n",
    "# Python 2.7\n",
    "data1 = pickle.load(pkl_file)\n",
    "\n",
    "# Python 3.5\n",
    "#u = pickle._Unpickler(pkl_file)\n",
    "#u.encoding = 'latin1'\n",
    "#data1 = u.load()\n",
    "    \n",
    "#pprint.pprint(data1)\n",
    "\n",
    "pprint.pprint(data1.keys())\n",
    "pprint.pprint(data1.values()[0]) # same as data1['2016-04-01-23h43m20s']"
   ]
  },
  {
   "cell_type": "code",
   "execution_count": null,
   "metadata": {
    "collapsed": false
   },
   "outputs": [],
   "source": [
    "avail = df_data.shape[0]-df_data.isnull().sum()\n",
    "plt.plot(avail)\n",
    "plt.xlabel('Camera frame within experiment')\n",
    "plt.ylabel('Available clusters')"
   ]
  },
  {
   "cell_type": "code",
   "execution_count": null,
   "metadata": {
    "collapsed": true
   },
   "outputs": [],
   "source": []
  }
 ],
 "metadata": {
  "kernelspec": {
   "display_name": "Python 2",
   "language": "python",
   "name": "python2"
  },
  "language_info": {
   "codemirror_mode": {
    "name": "ipython",
    "version": 2
   },
   "file_extension": ".py",
   "mimetype": "text/x-python",
   "name": "python",
   "nbconvert_exporter": "python",
   "pygments_lexer": "ipython2",
   "version": "2.7.11"
  }
 },
 "nbformat": 4,
 "nbformat_minor": 0
}
