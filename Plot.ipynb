{
 "cells": [
  {
   "cell_type": "markdown",
   "metadata": {},
   "source": [
    "#### We need to install module future, not importing from \\_\\_future\\_\\_"
   ]
  },
  {
   "cell_type": "code",
   "execution_count": null,
   "metadata": {
    "collapsed": false
   },
   "outputs": [],
   "source": [
    "#from __future__ import (absolute_import, division,\n",
    "#                        print_function, unicode_literals)\n",
    "#from builtins import (\n",
    "#         bytes, dict, int, list, object, range, str,\n",
    "#         ascii, chr, hex, input, next, oct, open,\n",
    "#         pow, round, super,\n",
    "#         filter, map, zip)"
   ]
  },
  {
   "cell_type": "code",
   "execution_count": null,
   "metadata": {
    "collapsed": false
   },
   "outputs": [],
   "source": [
    "#from future.utils import PY3\n",
    "#from __future__ import (absolute_import, division,\n",
    "#                        print_function, unicode_literals)\n",
    "import future\n",
    "from __future__ import print_function\n",
    "import pandas as pd\n",
    "import numpy as np\n",
    "import os\n",
    "from matplotlib import pyplot as plt"
   ]
  },
  {
   "cell_type": "markdown",
   "metadata": {},
   "source": [
    "#### Load files"
   ]
  },
  {
   "cell_type": "code",
   "execution_count": null,
   "metadata": {
    "collapsed": false
   },
   "outputs": [],
   "source": [
    "os.listdir('../_share/Losonczi/msa1215_1')"
   ]
  },
  {
   "cell_type": "code",
   "execution_count": null,
   "metadata": {
    "collapsed": false
   },
   "outputs": [],
   "source": [
    "experiment_traits = pd.read_hdf('../_share/Losonczi/msa1215_1/experiment_traits.h5',key='table')\n",
    "raw_data = pd.read_hdf('../_share/Losonczi/msa1215_1/raw_data.h5',key='table')\n",
    "df_data = pd.read_hdf('../_share/Losonczi/msa1215_1/df_data.h5',key='table')\n",
    "transients_data = pd.read_hdf('../_share/Losonczi/msa1215_1/transients_data.h5',key='table')\n",
    "behavior_data = pd.read_hdf('../_share/Losonczi/msa1215_1/behavior_data.h5',key='table')"
   ]
  },
  {
   "cell_type": "code",
   "execution_count": null,
   "metadata": {
    "collapsed": false
   },
   "outputs": [],
   "source": [
    "variables = {'experiment_traits', 'raw_data', 'df_data', 'transients_data', 'behavior_data'}\n",
    "for myname in variables:\n",
    "    myvar = globals()[myname]\n",
    "    print(myname, myvar.columns.values, myvar.shape)"
   ]
  },
  {
   "cell_type": "markdown",
   "metadata": {},
   "source": [
    "#### Display data"
   ]
  },
  {
   "cell_type": "code",
   "execution_count": null,
   "metadata": {
    "collapsed": false
   },
   "outputs": [],
   "source": [
    "experiment_traits.head(10)"
   ]
  },
  {
   "cell_type": "code",
   "execution_count": null,
   "metadata": {
    "collapsed": false
   },
   "outputs": [],
   "source": [
    "behavior_data.head(10)"
   ]
  },
  {
   "cell_type": "code",
   "execution_count": null,
   "metadata": {
    "collapsed": false
   },
   "outputs": [],
   "source": [
    "df_data.head()"
   ]
  },
  {
   "cell_type": "code",
   "execution_count": null,
   "metadata": {
    "collapsed": false
   },
   "outputs": [],
   "source": [
    "print(np.array(df_data.index.levels).shape, df_data.shape)\n",
    "ix0 = df_data.index.get_level_values(0).unique()\n",
    "ix1 = df_data.index.get_level_values(1).unique()\n",
    "print(ix0,ix0.shape,'\\n',ix1,ix1.shape)\n",
    "experiment_id = ix0[0]\n",
    "sel_df = raw_data.loc[experiment_id].ix[0:5,:]\n",
    "sel_time = (0, len(sel_df.columns))\n",
    "sel_units = sel_df.index.values\n",
    "sel_data = sel_df.values\n",
    "%matplotlib inline\n",
    "plt.plot(sel_data.T)\n",
    "plt.title('Raw data')\n",
    "plt.xlabel('Camera frame')\n",
    "plt.ylabel('Raw Ca level')\n",
    "plt.show()\n",
    "data = df_data.loc[experiment_id].ix[0:5,:]\n",
    "%matplotlib inline\n",
    "plt.plot(data.T)\n",
    "plt.title('Filtered data')\n",
    "plt.xlabel('Camera frame')\n",
    "plt.ylabel('Processed Ca level')\n",
    "plt.show()"
   ]
  },
  {
   "cell_type": "code",
   "execution_count": null,
   "metadata": {
    "collapsed": false
   },
   "outputs": [],
   "source": [
    "durations=np.array([0,10,20,15,5])\n",
    "events=np.cumsum(durations)\n",
    "FPS=30"
   ]
  },
  {
   "cell_type": "code",
   "execution_count": null,
   "metadata": {
    "collapsed": false
   },
   "outputs": [],
   "source": [
    "print(sel_units)\n",
    "max_places = transients_data.loc[experiment_id]['max_frame']\n",
    "for i in range(0,len(sel_units)):\n",
    "    unit = sel_units[i]\n",
    "    firing = max_places.loc[unit]\n",
    "    plt.plot(firing,i*np.ones_like(firing),'x')\n",
    "plt.ylim((-1,len(sel_units)))\n",
    "plt.title('Spike summits')\n",
    "plt.xlabel('Camera frame')\n",
    "plt.ylabel('Unit ID')\n",
    "plt.show()\n",
    "ixt = transients_data.loc[experiment_id].index.unique()\n",
    "plt.figure(figsize=(16,10))\n",
    "for i in range(0,len(ixt)):\n",
    "    unit = ixt[i]\n",
    "    firing = transients_data.loc[(experiment_id,unit),'max_frame']\n",
    "    #firing = max_places.loc[unit]\n",
    "    plt.plot(firing,i*np.ones_like(firing),'|',ms=5)\n",
    "for i in range(0,len(events)):\n",
    "    plt.axvline(x=events[i]*FPS, ymin=0.0, ymax = 1.0, linewidth=1, color='k')\n",
    "plt.title('Spike summits')\n",
    "plt.xlabel('Camera frame')\n",
    "plt.ylabel('Unit ID')\n",
    "plt.show()"
   ]
  },
  {
   "cell_type": "code",
   "execution_count": null,
   "metadata": {
    "collapsed": false
   },
   "outputs": [],
   "source": [
    "transients_data.head(10)"
   ]
  },
  {
   "cell_type": "code",
   "execution_count": null,
   "metadata": {
    "collapsed": false
   },
   "outputs": [],
   "source": [
    "import pprint, pickle\n",
    "\n",
    "pkl_file = open('../_share/Losonczi/msa1215_1/frame_fluor.pkl', 'rb')\n",
    "\n",
    "# Python 2.7\n",
    "data1 = pickle.load(pkl_file)\n",
    "\n",
    "# Python 3.5\n",
    "#u = pickle._Unpickler(pkl_file)\n",
    "#u.encoding = 'latin1'\n",
    "#data1 = u.load()\n",
    "    \n",
    "#pprint.pprint(data1)\n",
    "\n",
    "pprint.pprint(data1.keys())\n",
    "pprint.pprint(data1.values()[0]) # same as data1['2016-04-01-23h43m20s']"
   ]
  },
  {
   "cell_type": "code",
   "execution_count": null,
   "metadata": {
    "collapsed": true
   },
   "outputs": [],
   "source": []
  }
 ],
 "metadata": {
  "kernelspec": {
   "display_name": "Python 2",
   "language": "python",
   "name": "python2"
  },
  "language_info": {
   "codemirror_mode": {
    "name": "ipython",
    "version": 2
   },
   "file_extension": ".py",
   "mimetype": "text/x-python",
   "name": "python",
   "nbconvert_exporter": "python",
   "pygments_lexer": "ipython2",
   "version": "2.7.11"
  }
 },
 "nbformat": 4,
 "nbformat_minor": 0
}
