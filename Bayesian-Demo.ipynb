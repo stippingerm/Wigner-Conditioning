{
 "cells": [
  {
   "cell_type": "markdown",
   "metadata": {},
   "source": [
    "# A Non-Parametric Bayesian Method for Inferring Hidden Causes\n",
    "<a href=\"http://cocosci.berkeley.edu/tom/papers/ibpuai.pdf\">F., Griffiths, T.L., Ghahramani, Z., 2006.<br />\n",
    "Presented at the Proceedings of the Conference on Uncertainty in Artificial Intelligence.</a>"
   ]
  },
  {
   "cell_type": "markdown",
   "metadata": {},
   "source": [
    "## Import"
   ]
  },
  {
   "cell_type": "code",
   "execution_count": null,
   "metadata": {
    "collapsed": false
   },
   "outputs": [],
   "source": [
    "import BayesianHiddenCause as bc\n",
    "import imp, numpy, matplotlib.pyplot as plt\n",
    "np = numpy\n",
    "%matplotlib inline"
   ]
  },
  {
   "cell_type": "code",
   "execution_count": null,
   "metadata": {
    "collapsed": false
   },
   "outputs": [],
   "source": [
    "def plot_matrix_product(rows,M1,name1,cols,M2,name2,common,result=None,namer='result',figsize=(20,5)):\n",
    "    assert type(rows) is str and type(cols) is str and type(common) is str\n",
    "    assert type(name1) is str and type(name2) is str and type(namer) is str\n",
    "    assert type(M1) is np.ndarray and type(M2) is np.ndarray and (result is None or type(result) is np.ndarray)\n",
    "    fig, ax = plt.subplots(2,2,sharex='col',sharey='row',figsize=figsize)\n",
    "    ax[0,0].axis('off')\n",
    "    ax[0,1].matshow(M2)\n",
    "    ax[0,1].set_title(name2)\n",
    "    ax[0,1].set_ylabel(common)\n",
    "    ax[1,0].matshow(M1)\n",
    "    ax[1,0].set_title(name1)\n",
    "    ax[1,0].set_xlabel(common)\n",
    "    ax[1,1].matshow(np.dot(M1,M2) if result is None else result)\n",
    "    ax[1,1].set_title(namer)\n",
    "    ax[1,1].set_xlabel(cols)\n",
    "    ax[1,1].set_ylabel(rows)\n",
    "    return fig"
   ]
  },
  {
   "cell_type": "code",
   "execution_count": null,
   "metadata": {
    "collapsed": false
   },
   "outputs": [],
   "source": [
    "imp.reload(bc)"
   ]
  },
  {
   "cell_type": "markdown",
   "metadata": {},
   "source": [
    "## Initialize"
   ]
  },
  {
   "cell_type": "markdown",
   "metadata": {},
   "source": [
    "### Model"
   ]
  },
  {
   "cell_type": "code",
   "execution_count": null,
   "metadata": {
    "collapsed": true
   },
   "outputs": [],
   "source": [
    "bba = bc.BernoulliBetaAssumption(0.1, 3)"
   ]
  },
  {
   "cell_type": "markdown",
   "metadata": {},
   "source": [
    "### Data"
   ]
  },
  {
   "cell_type": "code",
   "execution_count": null,
   "metadata": {
    "collapsed": false
   },
   "outputs": [],
   "source": [
    "X, Y, Z = bba.generate(3, 20, 100, True)\n",
    "fig = plot_matrix_product('i (observabes)',Z,'Z','t (trials)',Y,'Y','k (causes)',X,'X')"
   ]
  },
  {
   "cell_type": "markdown",
   "metadata": {},
   "source": [
    "### Learner"
   ]
  },
  {
   "cell_type": "code",
   "execution_count": null,
   "metadata": {
    "collapsed": true
   },
   "outputs": [],
   "source": [
    "bba.observe(X)"
   ]
  },
  {
   "cell_type": "code",
   "execution_count": null,
   "metadata": {
    "collapsed": false
   },
   "outputs": [],
   "source": [
    "bba.Gibbs_prepare(10)"
   ]
  },
  {
   "cell_type": "markdown",
   "metadata": {},
   "source": [
    "## Show parameters"
   ]
  },
  {
   "cell_type": "code",
   "execution_count": null,
   "metadata": {
    "collapsed": false
   },
   "outputs": [],
   "source": [
    "bba.Z.shape"
   ]
  },
  {
   "cell_type": "code",
   "execution_count": null,
   "metadata": {
    "collapsed": false
   },
   "outputs": [],
   "source": [
    "bba.N, bba.K, bba.T"
   ]
  },
  {
   "cell_type": "code",
   "execution_count": null,
   "metadata": {
    "collapsed": false
   },
   "outputs": [],
   "source": [
    "numpy.sum(bba.Y)"
   ]
  },
  {
   "cell_type": "code",
   "execution_count": null,
   "metadata": {
    "collapsed": false
   },
   "outputs": [],
   "source": [
    "bba.get_p()"
   ]
  },
  {
   "cell_type": "code",
   "execution_count": null,
   "metadata": {
    "collapsed": false
   },
   "outputs": [],
   "source": [
    "bba.get_theta()"
   ]
  },
  {
   "cell_type": "markdown",
   "metadata": {},
   "source": [
    "## Show converged result and original data"
   ]
  },
  {
   "cell_type": "code",
   "execution_count": null,
   "metadata": {
    "collapsed": false
   },
   "outputs": [],
   "source": [
    "fig = plot_matrix_product('i (observabes)',bba.Z,'Z','t (trials)',bba.Y,'Y','k (causes)',bba.px,'X estimated')\n",
    "fig.suptitle('Estimate')\n",
    "fig = plot_matrix_product('i (observabes)',Z,'Z','t (trials)',Y,'Y','k (causes)',X,'X observed')\n",
    "fig.suptitle('Original')"
   ]
  },
  {
   "cell_type": "markdown",
   "metadata": {},
   "source": [
    "## iterate"
   ]
  },
  {
   "cell_type": "code",
   "execution_count": null,
   "metadata": {
    "collapsed": false
   },
   "outputs": [],
   "source": [
    "for i in range(0,100):\n",
    "    bba.Gibbs_iterate()"
   ]
  },
  {
   "cell_type": "markdown",
   "metadata": {},
   "source": [
    "### Now, go back to visualization"
   ]
  },
  {
   "cell_type": "markdown",
   "metadata": {},
   "source": [
    "## Tests"
   ]
  },
  {
   "cell_type": "code",
   "execution_count": null,
   "metadata": {
    "collapsed": false,
    "scrolled": true
   },
   "outputs": [],
   "source": [
    "numpy.sum(X), numpy.sum(Y), numpy.sum(Z)"
   ]
  },
  {
   "cell_type": "code",
   "execution_count": null,
   "metadata": {
    "collapsed": false,
    "scrolled": true
   },
   "outputs": [],
   "source": [
    "bba.p0_per_sum_p(logp=[[np.log(0.25), np.log(0.25)], [np.log(0), np.log(0.75)]])"
   ]
  },
  {
   "cell_type": "code",
   "execution_count": null,
   "metadata": {
    "collapsed": false
   },
   "outputs": [],
   "source": [
    "bba.normalize_p(logp=[[np.log(0.25), np.log(0.25)], [np.log(1e-200), np.log(0.75)]])"
   ]
  },
  {
   "cell_type": "code",
   "execution_count": null,
   "metadata": {
    "collapsed": true
   },
   "outputs": [],
   "source": []
  }
 ],
 "metadata": {
  "anaconda-cloud": {},
  "kernelspec": {
   "display_name": "Python 2",
   "language": "python",
   "name": "python2"
  },
  "language_info": {
   "codemirror_mode": {
    "name": "ipython",
    "version": 2
   },
   "file_extension": ".py",
   "mimetype": "text/x-python",
   "name": "python",
   "nbconvert_exporter": "python",
   "pygments_lexer": "ipython2",
   "version": "2.7.12"
  }
 },
 "nbformat": 4,
 "nbformat_minor": 0
}
